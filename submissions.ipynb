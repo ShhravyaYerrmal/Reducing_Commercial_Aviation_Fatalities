{
 "cells": [
  {
   "cell_type": "code",
   "execution_count": null,
   "metadata": {
    "id": "3r7ahfioJuYL"
   },
   "outputs": [],
   "source": [
    "%matplotlib inline\n",
    "import warnings\n",
    "warnings.filterwarnings(\"ignore\")\n",
    "import numpy as np\n",
    "import pandas as pd\n",
    "import pickle\n",
    "from tqdm import tqdm\n",
    "import os\n",
    "import zipfile\n",
    "from sklearn.metrics import log_loss\n",
    "import matplotlib.pyplot as plt\n"
   ]
  },
  {
   "cell_type": "code",
   "execution_count": null,
   "metadata": {
    "id": "Tu966RgLRYD2"
   },
   "outputs": [],
   "source": [
    "test=pickle.load(open('/content/drive/My Drive/Casestudy-1/test_fe','rb'))"
   ]
  },
  {
   "cell_type": "markdown",
   "metadata": {
    "id": "NyR4Z6Mip7Bz"
   },
   "source": [
    "### Random Forest"
   ]
  },
  {
   "cell_type": "code",
   "execution_count": null,
   "metadata": {
    "id": "E3mkOKdBJqAS"
   },
   "outputs": [],
   "source": [
    "rf=pickle.load(open('/content/drive/My Drive/Casestudy-1/best_clf','rb'))"
   ]
  },
  {
   "cell_type": "code",
   "execution_count": null,
   "metadata": {
    "id": "b0laV6HsJrqk"
   },
   "outputs": [],
   "source": [
    "yp_test= rf.predict_proba(test)"
   ]
  },
  {
   "cell_type": "code",
   "execution_count": null,
   "metadata": {
    "id": "toqOT6o7JuH9"
   },
   "outputs": [],
   "source": [
    "submission=pd.DataFrame()\n",
    "submission[\"id\"]=np.arange(0,17965143)\n",
    "submission[\"A\"]=yp_test[:,0]\n",
    "submission[\"B\"]=yp_test[:,1]\n",
    "submission[\"C\"]=yp_test[:,2]\n",
    "submission[\"D\"]=yp_test[:,3]"
   ]
  },
  {
   "cell_type": "code",
   "execution_count": null,
   "metadata": {
    "id": "RNoajU52LMvw"
   },
   "outputs": [],
   "source": [
    "submission.to_csv(\"/content/drive/MyDrive/Casestudy-1/submit.csv\",index=False)"
   ]
  },
  {
   "cell_type": "code",
   "execution_count": null,
   "metadata": {
    "id": "mzxU5EGaLwag"
   },
   "outputs": [],
   "source": [
    "!kaggle competitions submit reducing-commercial-aviation-fatalities -f submit.csv -m \".\""
   ]
  },
  {
   "cell_type": "markdown",
   "metadata": {
    "id": "bNkAj2VqqBY7"
   },
   "source": [
    "### Logistic Regression"
   ]
  },
  {
   "cell_type": "code",
   "execution_count": null,
   "metadata": {
    "id": "A6KOEReCqFIQ"
   },
   "outputs": [],
   "source": [
    "log_reg=pickle.load(open('/content/drive/My Drive/Casestudy-1/log_reg','rb'))"
   ]
  },
  {
   "cell_type": "code",
   "execution_count": null,
   "metadata": {
    "id": "9tYHhE4-1FTR"
   },
   "outputs": [],
   "source": [
    "yp_test_lr= log_reg.predict_proba(test)"
   ]
  },
  {
   "cell_type": "code",
   "execution_count": null,
   "metadata": {
    "id": "ibiIAtiWKdCG"
   },
   "outputs": [],
   "source": [
    "submission=pd.DataFrame()\n",
    "submission[\"id\"]=np.arange(0,17965143)\n",
    "submission[\"A\"]=yp_test_lr[:,0]\n",
    "submission[\"B\"]=yp_test_lr[:,1]\n",
    "submission[\"C\"]=yp_test_lr[:,2]\n",
    "submission[\"D\"]=yp_test_lr[:,3]"
   ]
  },
  {
   "cell_type": "code",
   "execution_count": null,
   "metadata": {
    "id": "FdoT7WoDLyAh"
   },
   "outputs": [],
   "source": [
    "submission.to_csv(\"sub_lr\",index=False)"
   ]
  },
  {
   "cell_type": "code",
   "execution_count": null,
   "metadata": {
    "colab": {
     "base_uri": "https://localhost:8080/"
    },
    "id": "yJacLSaUL6jG",
    "outputId": "c1f0a502-ae3a-4c34-c34b-477aed4d245a"
   },
   "outputs": [
    {
     "name": "stdout",
     "output_type": "stream",
     "text": [
      "100% 1.47G/1.47G [01:25<00:00, 18.4MB/s]\n",
      "Successfully submitted to Reducing Commercial Aviation Fatalities"
     ]
    }
   ],
   "source": [
    "!kaggle competitions submit reducing-commercial-aviation-fatalities -f sub_lr -m \"logistic_Regression\""
   ]
  },
  {
   "cell_type": "markdown",
   "metadata": {
    "id": "9dl13VNY1kJg"
   },
   "source": [
    "### Decision Tree"
   ]
  },
  {
   "cell_type": "code",
   "execution_count": null,
   "metadata": {
    "id": "VpFtVRkX1qK8"
   },
   "outputs": [],
   "source": [
    "dt=pickle.load(open('/content/drive/My Drive/Casestudy-1/dt','rb'))"
   ]
  },
  {
   "cell_type": "code",
   "execution_count": null,
   "metadata": {
    "id": "a4-_LV7e1o9Z"
   },
   "outputs": [],
   "source": [
    "yp_dt= dt.predict_proba(test)"
   ]
  },
  {
   "cell_type": "code",
   "execution_count": null,
   "metadata": {
    "id": "gCVlsxVmTGBd"
   },
   "outputs": [],
   "source": [
    "sub_dt=pd.DataFrame()\n",
    "sub_dt[\"id\"]=np.arange(0,17965143)\n",
    "sub_dt[\"A\"]=yp_dt[:,0]\n",
    "sub_dt[\"B\"]=yp_dt[:,1]\n",
    "sub_dt[\"C\"]=yp_dt[:,2]\n",
    "sub_dt[\"D\"]=yp_dt[:,3]"
   ]
  },
  {
   "cell_type": "code",
   "execution_count": null,
   "metadata": {
    "id": "eKZSvMbTViIe"
   },
   "outputs": [],
   "source": [
    "sub_dt.to_csv(\"sub_dt.csv\",index=False)"
   ]
  },
  {
   "cell_type": "code",
   "execution_count": null,
   "metadata": {
    "colab": {
     "base_uri": "https://localhost:8080/"
    },
    "id": "Uc6oAt6ZVvpT",
    "outputId": "50a2a2bf-d5c3-48d4-8810-68952fd05639"
   },
   "outputs": [
    {
     "name": "stdout",
     "output_type": "stream",
     "text": [
      "100% 439M/439M [00:10<00:00, 43.0MB/s]\n",
      "Successfully submitted to Reducing Commercial Aviation Fatalities"
     ]
    }
   ],
   "source": [
    "!kaggle competitions submit reducing-commercial-aviation-fatalities -f sub_dt.csv -m \"Decision Tree\""
   ]
  },
  {
   "cell_type": "markdown",
   "metadata": {
    "id": "a4JSqeL9W_9f"
   },
   "source": [
    "### AdaBoost Classifier"
   ]
  },
  {
   "cell_type": "code",
   "execution_count": null,
   "metadata": {
    "id": "dUwzF_ZNXDR_"
   },
   "outputs": [],
   "source": [
    "adb=pickle.load(open('/content/drive/My Drive/Casestudy-1/adb','rb'))"
   ]
  },
  {
   "cell_type": "code",
   "execution_count": null,
   "metadata": {
    "id": "JpQEPHaIXeE1"
   },
   "outputs": [],
   "source": [
    "yp_adb= adb.predict_proba(test)"
   ]
  },
  {
   "cell_type": "code",
   "execution_count": null,
   "metadata": {
    "colab": {
     "base_uri": "https://localhost:8080/"
    },
    "id": "K0CpBRhDcClP",
    "outputId": "f07eba97-85fb-4408-8180-4853f70f40e1"
   },
   "outputs": [
    {
     "data": {
      "text/plain": [
       "array([[0.26642784, 0.20153855, 0.27844618, 0.25358743],\n",
       "       [0.26791708, 0.19677645, 0.27202167, 0.2632848 ],\n",
       "       [0.26791708, 0.19677645, 0.27202167, 0.2632848 ],\n",
       "       ...,\n",
       "       [0.26331253, 0.21338208, 0.27071202, 0.25259337],\n",
       "       [0.26314616, 0.2124925 , 0.27004153, 0.25431982],\n",
       "       [0.28142442, 0.22891121, 0.29389861, 0.19576576]])"
      ]
     },
     "execution_count": 28,
     "metadata": {
      "tags": []
     },
     "output_type": "execute_result"
    }
   ],
   "source": [
    "yp_adb"
   ]
  },
  {
   "cell_type": "code",
   "execution_count": null,
   "metadata": {
    "id": "BkYnQdbcXgYa"
   },
   "outputs": [],
   "source": [
    "sub_adb=pd.DataFrame()\n",
    "sub_adb[\"id\"]=np.arange(0,17965143)\n",
    "sub_adb[\"A\"]=yp_adb[:,0]\n",
    "sub_adb[\"B\"]=yp_adb[:,1]\n",
    "sub_adb[\"C\"]=yp_adb[:,2]\n",
    "sub_adb[\"D\"]=yp_adb[:,3]"
   ]
  },
  {
   "cell_type": "code",
   "execution_count": null,
   "metadata": {
    "id": "MvflQR_pYjFl"
   },
   "outputs": [],
   "source": [
    "sub_adb.to_csv(\"sub_adb.csv\",index=False)"
   ]
  },
  {
   "cell_type": "code",
   "execution_count": null,
   "metadata": {
    "colab": {
     "base_uri": "https://localhost:8080/"
    },
    "id": "g6n2qD0FYdqL",
    "outputId": "cb7af03b-d184-496c-db33-fdd90f1fb824"
   },
   "outputs": [
    {
     "name": "stdout",
     "output_type": "stream",
     "text": [
      "100% 1.44G/1.44G [00:28<00:00, 54.7MB/s]\n",
      "Successfully submitted to Reducing Commercial Aviation Fatalities"
     ]
    }
   ],
   "source": [
    "!kaggle competitions submit reducing-commercial-aviation-fatalities -f sub_adb.csv -m \"AdaBoost\""
   ]
  },
  {
   "cell_type": "markdown",
   "metadata": {
    "id": "LNi6IPxyYxvd"
   },
   "source": [
    "### Random Model"
   ]
  },
  {
   "cell_type": "code",
   "execution_count": null,
   "metadata": {
    "id": "SKeKP2tLbM5z"
   },
   "outputs": [],
   "source": [
    "yp_random =random(test)"
   ]
  },
  {
   "cell_type": "code",
   "execution_count": null,
   "metadata": {
    "id": "MfneRhRabVnG"
   },
   "outputs": [],
   "source": [
    "yp_r=np.array(yp_random)"
   ]
  },
  {
   "cell_type": "code",
   "execution_count": null,
   "metadata": {
    "id": "zAT8XzMkbTlz"
   },
   "outputs": [],
   "source": [
    "sub_r=pd.DataFrame()\n",
    "sub_r[\"id\"]=np.arange(0,17965143)\n",
    "sub_r[\"A\"]=yp_r[:,0]\n",
    "sub_r[\"B\"]=yp_r[:,1]\n",
    "sub_r[\"C\"]=yp_r[:,2]\n",
    "sub_r[\"D\"]=yp_r[:,3]"
   ]
  },
  {
   "cell_type": "code",
   "execution_count": null,
   "metadata": {
    "id": "4n0Y19N_c9ad"
   },
   "outputs": [],
   "source": [
    "sub_r.to_csv(\"sub_r.csv\",index=False)"
   ]
  },
  {
   "cell_type": "code",
   "execution_count": null,
   "metadata": {
    "colab": {
     "base_uri": "https://localhost:8080/"
    },
    "id": "XbipzPGEdNDf",
    "outputId": "a05208ee-729f-4cc2-c363-17e2ce2a7107"
   },
   "outputs": [
    {
     "name": "stdout",
     "output_type": "stream",
     "text": [
      "100% 1.45G/1.45G [00:43<00:00, 36.0MB/s]\n",
      "Successfully submitted to Reducing Commercial Aviation Fatalities"
     ]
    }
   ],
   "source": [
    "!kaggle competitions submit reducing-commercial-aviation-fatalities -f sub_r.csv -m \"Random model\""
   ]
  },
  {
   "cell_type": "markdown",
   "metadata": {
    "id": "Yxv_9gBqIFKA"
   },
   "source": [
    "### Stacking Classifiers"
   ]
  },
  {
   "cell_type": "markdown",
   "metadata": {
    "id": "l_jWty-8uZjX"
   },
   "source": [
    "1."
   ]
  },
  {
   "cell_type": "code",
   "execution_count": null,
   "metadata": {
    "id": "_oEeNbi3IExJ"
   },
   "outputs": [],
   "source": [
    "sclf=pickle.load(open('/content/drive/My Drive/Casestudy-1/stacking','rb'))"
   ]
  },
  {
   "cell_type": "code",
   "execution_count": null,
   "metadata": {
    "id": "IVFiuH-bIPls"
   },
   "outputs": [],
   "source": [
    "yp_sclf= sclf.predict_proba(test)"
   ]
  },
  {
   "cell_type": "code",
   "execution_count": null,
   "metadata": {
    "id": "QE-tK6zLIS5a"
   },
   "outputs": [],
   "source": [
    "sub_sclf=pd.DataFrame()\n",
    "sub_sclf[\"id\"]=np.arange(0,17965143)\n",
    "sub_sclf[\"A\"]=yp_sclf[:,0]\n",
    "sub_sclf[\"B\"]=yp_sclf[:,1]\n",
    "sub_sclf[\"C\"]=yp_sclf[:,2]\n",
    "sub_sclf[\"D\"]=yp_sclf[:,3]"
   ]
  },
  {
   "cell_type": "code",
   "execution_count": null,
   "metadata": {
    "id": "hzDb5xkRIXF7"
   },
   "outputs": [],
   "source": [
    "sub_sclf.to_csv(\"sub_sclf.csv\",index=False)"
   ]
  },
  {
   "cell_type": "code",
   "execution_count": null,
   "metadata": {
    "colab": {
     "base_uri": "https://localhost:8080/"
    },
    "id": "Ue0h2MuTIZD2",
    "outputId": "d9251ca4-7bd9-49e1-a24e-a84bd45dd6b7"
   },
   "outputs": [
    {
     "name": "stdout",
     "output_type": "stream",
     "text": [
      "100% 1.05G/1.05G [00:10<00:00, 109MB/s]\n",
      "Successfully submitted to Reducing Commercial Aviation Fatalities"
     ]
    }
   ],
   "source": [
    "!kaggle competitions submit reducing-commercial-aviation-fatalities -f sub_sclf.csv -m \"lr, dt, adb,RF\""
   ]
  },
  {
   "cell_type": "markdown",
   "metadata": {
    "id": "mGz6WfLluX8b"
   },
   "source": [
    "2."
   ]
  },
  {
   "cell_type": "code",
   "execution_count": null,
   "metadata": {
    "id": "3zop8y1Zucbt"
   },
   "outputs": [],
   "source": [
    "sclf2=pickle.load(open('/content/drive/My Drive/Casestudy-1/stack2','rb'))"
   ]
  },
  {
   "cell_type": "code",
   "execution_count": null,
   "metadata": {
    "colab": {
     "base_uri": "https://localhost:8080/"
    },
    "id": "h_guEneVufeA",
    "outputId": "9d3e8099-02b2-4aa2-d537-a1e5e144a325"
   },
   "outputs": [
    {
     "name": "stderr",
     "output_type": "stream",
     "text": [
      "[Parallel(n_jobs=4)]: Using backend ThreadingBackend with 4 concurrent workers.\n",
      "[Parallel(n_jobs=4)]: Done  42 tasks      | elapsed:   53.1s\n",
      "[Parallel(n_jobs=4)]: Done 100 out of 100 | elapsed:  2.0min finished\n",
      "[Parallel(n_jobs=4)]: Using backend ThreadingBackend with 4 concurrent workers.\n",
      "[Parallel(n_jobs=4)]: Done  42 tasks      | elapsed:   26.8s\n",
      "[Parallel(n_jobs=4)]: Done 100 out of 100 | elapsed:  1.0min finished\n"
     ]
    }
   ],
   "source": [
    "yp_sclf2= sclf2.predict_proba(test)"
   ]
  },
  {
   "cell_type": "code",
   "execution_count": null,
   "metadata": {
    "id": "xKdvMA92ulNo"
   },
   "outputs": [],
   "source": [
    "sub_sclf2=pd.DataFrame()\n",
    "sub_sclf2[\"id\"]=np.arange(0,17965143)\n",
    "sub_sclf2[\"A\"]=yp_sclf2[:,0]\n",
    "sub_sclf2[\"B\"]=yp_sclf2[:,1]\n",
    "sub_sclf2[\"C\"]=yp_sclf2[:,2]\n",
    "sub_sclf2[\"D\"]=yp_sclf2[:,3]"
   ]
  },
  {
   "cell_type": "code",
   "execution_count": null,
   "metadata": {
    "id": "YIDY1uzgv3Od"
   },
   "outputs": [],
   "source": [
    "sub_sclf2.to_csv(\"stack2.csv\",index=False)"
   ]
  },
  {
   "cell_type": "code",
   "execution_count": null,
   "metadata": {
    "colab": {
     "base_uri": "https://localhost:8080/"
    },
    "id": "InghHKs0u7lW",
    "outputId": "0f0f623c-a456-4292-bc08-01ac811a4840"
   },
   "outputs": [
    {
     "name": "stdout",
     "output_type": "stream",
     "text": [
      "100% 454M/454M [00:10<00:00, 46.4MB/s]\n",
      "Successfully submitted to Reducing Commercial Aviation Fatalities"
     ]
    }
   ],
   "source": [
    "!kaggle competitions submit reducing-commercial-aviation-fatalities -f stack2.csv -m \"DT+XGB+SVC,RF\""
   ]
  },
  {
   "cell_type": "markdown",
   "metadata": {
    "id": "b84MYbX9xBmV"
   },
   "source": [
    "3."
   ]
  },
  {
   "cell_type": "code",
   "execution_count": null,
   "metadata": {
    "id": "ubnD0dhvxCnf"
   },
   "outputs": [],
   "source": [
    "sclf3=pickle.load(open('/content/drive/My Drive/Casestudy-1/stack3','rb'))"
   ]
  },
  {
   "cell_type": "code",
   "execution_count": null,
   "metadata": {
    "colab": {
     "base_uri": "https://localhost:8080/"
    },
    "id": "y3fpZKYDaKf4",
    "outputId": "7675fbef-0d09-434c-e2ac-797253da8ec0"
   },
   "outputs": [
    {
     "name": "stderr",
     "output_type": "stream",
     "text": [
      "[Parallel(n_jobs=4)]: Using backend ThreadingBackend with 4 concurrent workers.\n",
      "[Parallel(n_jobs=4)]: Done  42 tasks      | elapsed:  1.0min\n",
      "[Parallel(n_jobs=4)]: Done 100 out of 100 | elapsed:  2.3min finished\n"
     ]
    }
   ],
   "source": [
    "yp_sclf3= sclf3.predict_proba(test)"
   ]
  },
  {
   "cell_type": "code",
   "execution_count": null,
   "metadata": {
    "id": "XaVFGbWAZWnn"
   },
   "outputs": [],
   "source": [
    "sub_sclf3=pd.DataFrame()\n",
    "sub_sclf3[\"id\"]=np.arange(0,17965143)\n",
    "sub_sclf3[\"A\"]=yp_sclf3[:,0]\n",
    "sub_sclf3[\"B\"]=yp_sclf3[:,1]\n",
    "sub_sclf3[\"C\"]=yp_sclf3[:,2]\n",
    "sub_sclf3[\"D\"]=yp_sclf3[:,3]"
   ]
  },
  {
   "cell_type": "code",
   "execution_count": null,
   "metadata": {
    "id": "VBJD31QUZ7wl"
   },
   "outputs": [],
   "source": [
    "sub_sclf3.to_csv(\"stack3.csv\",index=False)"
   ]
  },
  {
   "cell_type": "code",
   "execution_count": null,
   "metadata": {
    "colab": {
     "base_uri": "https://localhost:8080/"
    },
    "id": "_jW2hdxzah-2",
    "outputId": "90af3c1c-98a6-4aec-c0d8-36b6db440272"
   },
   "outputs": [
    {
     "name": "stdout",
     "output_type": "stream",
     "text": [
      "100% 1.53G/1.53G [00:15<00:00, 104MB/s]\n",
      "Successfully submitted to Reducing Commercial Aviation Fatalities"
     ]
    }
   ],
   "source": [
    "!kaggle competitions submit reducing-commercial-aviation-fatalities -f stack3.csv -m \"RF+LR+ADB,LR\""
   ]
  },
  {
   "cell_type": "code",
   "execution_count": 9,
   "metadata": {
    "colab": {
     "base_uri": "https://localhost:8080/",
     "height": 639
    },
    "id": "447-EIrOW80b",
    "outputId": "fd1356b8-3af3-498d-8d63-98d0736480e6"
   },
   "outputs": [
    {
     "data": {
      "text/html": [
       "<img src=\"https://i.postimg.cc/Fzm963cb/kaggle.png\"/>"
      ],
      "text/plain": [
       "<IPython.core.display.Image object>"
      ]
     },
     "execution_count": 9,
     "metadata": {
      "tags": []
     },
     "output_type": "execute_result"
    }
   ],
   "source": [
    "from IPython.display import Image\n",
    "from IPython.core.display import HTML \n",
    "Image(url= \"https://i.postimg.cc/Fzm963cb/kaggle.png\")"
   ]
  },
  {
   "cell_type": "code",
   "execution_count": 10,
   "metadata": {
    "colab": {
     "base_uri": "https://localhost:8080/",
     "height": 378
    },
    "id": "rVxfdT2OXbQq",
    "outputId": "232953a0-f52e-474f-9f6d-d6ffc89c9396"
   },
   "outputs": [
    {
     "data": {
      "text/html": [
       "<img src=\"https://i.postimg.cc/gjq0cNdB/stacking-classifiers.png\"/>"
      ],
      "text/plain": [
       "<IPython.core.display.Image object>"
      ]
     },
     "execution_count": 10,
     "metadata": {
      "tags": []
     },
     "output_type": "execute_result"
    }
   ],
   "source": [
    "from IPython.display import Image\n",
    "from IPython.core.display import HTML \n",
    "Image(url= \"https://i.postimg.cc/gjq0cNdB/stacking-classifiers.png\")"
   ]
  }
 ],
 "metadata": {
  "accelerator": "GPU",
  "colab": {
   "collapsed_sections": [],
   "machine_shape": "hm",
   "name": "submissions.ipynb",
   "provenance": [],
   "toc_visible": true
  },
  "kernelspec": {
   "display_name": "Python 3 (ipykernel)",
   "language": "python",
   "name": "python3"
  },
  "language_info": {
   "codemirror_mode": {
    "name": "ipython",
    "version": 3
   },
   "file_extension": ".py",
   "mimetype": "text/x-python",
   "name": "python",
   "nbconvert_exporter": "python",
   "pygments_lexer": "ipython3",
   "version": "3.11.1"
  }
 },
 "nbformat": 4,
 "nbformat_minor": 1
}
